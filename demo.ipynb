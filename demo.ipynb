{
 "cells": [
  {
   "cell_type": "code",
   "execution_count": 1,
   "metadata": {},
   "outputs": [],
   "source": [
    "# Imports\n",
    "import random\n",
    "import string\n",
    "import tempfile\n",
    "import shutil\n",
    "import subprocess as sp\n",
    "import os\n",
    "\n",
    "from PIL import Image\n",
    "from torch import nn as nn\n",
    "from torch import Generator\n",
    "from torch.utils.data import random_split,DataLoader\n",
    "# TODO: Currently assumes that pytest runs from project root\n",
    "from util.car_dataset import check_dir, check_file, CarDataset, DatasetError\n",
    "from networks.common import *\n",
    "from networks.CNNbase import CNNBasic"
   ]
  },
  {
   "cell_type": "code",
   "execution_count": 2,
   "metadata": {},
   "outputs": [],
   "source": [
    "# Helper Functions\n",
    "def rand_string(length=5):\n",
    "    return ''.join(random.choices(string.ascii_letters +\n",
    "        string.digits, k=length))\n",
    "\n",
    "def loaded_dataset(temp_dir):\n",
    "    '''\n",
    "    Loads the car_dataset and returns the CarDataset object.\n",
    "    '''\n",
    "    #image_folder_list = ['0_Frames','1_Frames','2_Frames','3_Frames']\n",
    "    #label_file_list = ['0.txt','1.txt','2.txt','3.txt']\n",
    "    image_folder_list = ['0_Frames']\n",
    "    label_file_list = ['0.txt']\n",
    "    car_data = CarDataset(temp_dir,image_folder_list,label_file_list)\n",
    "    car_data.drop_nan()\n",
    "\n",
    "    return car_data\n",
    "\n",
    "def dataset_loader(loaded_dataset):\n",
    "    length = len(loaded_dataset)\n",
    "    split_set = random_split(loaded_dataset,[round(0.80*length)\n",
    "                ,round(0.20*length)],generator=Generator().manual_seed(42))\n",
    "    train_loader = DataLoader(split_set[0],batch_size=20)\n",
    "    test_loader = DataLoader(split_set[1],batch_size=1)\n",
    "    '''\n",
    "    Lowering values to sane levels to help run tests on github\n",
    "    runners. Ideally on local GPU (4GB) 80/20 split with batch size of\n",
    "    30 works well.\n",
    "    '''\n",
    "    return (train_loader,test_loader)\n",
    "\n",
    "def network(alpha=0):\n",
    "    network = CNNBasic(alpha)\n",
    "    network = network.to(get_device())\n",
    "    network.double()\n",
    "    return network"
   ]
  },
  {
   "cell_type": "code",
   "execution_count": 3,
   "metadata": {},
   "outputs": [],
   "source": [
    "def loaded_test_dataset(temp_dir):\n",
    "    '''\n",
    "    Loads the car_dataset and returns the CarDataset object.\n",
    "    '''\n",
    "    #image_folder_list = ['0_Frames','1_Frames','2_Frames','3_Frames']\n",
    "    #label_file_list = ['0.txt','1.txt','2.txt','3.txt']\n",
    "    image_folder_list = ['4_Frames']\n",
    "    label_file_list = ['4.txt']\n",
    "    car_data = CarDataset(temp_dir,image_folder_list,label_file_list)\n",
    "    car_data.drop_nan()\n",
    "\n",
    "    return car_data"
   ]
  },
  {
   "cell_type": "code",
   "execution_count": 4,
   "metadata": {},
   "outputs": [
    {
     "name": "stdout",
     "output_type": "stream",
     "text": [
      "/home/akshay.viswakumar/dl-based-sensor-calib\n"
     ]
    }
   ],
   "source": [
    "root = os.getcwd()\n",
    "print(os.getcwd())"
   ]
  },
  {
   "cell_type": "code",
   "execution_count": 5,
   "metadata": {},
   "outputs": [],
   "source": [
    "# Load Data\n",
    "data = loaded_dataset(os.path.join(root,\"dummy\"))"
   ]
  },
  {
   "cell_type": "code",
   "execution_count": 6,
   "metadata": {},
   "outputs": [],
   "source": [
    "# Split Dataset\n",
    "datasets = dataset_loader(data)"
   ]
  },
  {
   "cell_type": "code",
   "execution_count": 7,
   "metadata": {},
   "outputs": [],
   "source": [
    "# Initialize Network\n",
    "net = network(alpha=2)"
   ]
  },
  {
   "cell_type": "code",
   "execution_count": 8,
   "metadata": {},
   "outputs": [
    {
     "name": "stderr",
     "output_type": "stream",
     "text": [
      "\r",
      "0it [00:00, ?it/s]"
     ]
    },
    {
     "name": "stdout",
     "output_type": "stream",
     "text": [
      "Start Training\n"
     ]
    },
    {
     "name": "stderr",
     "output_type": "stream",
     "text": [
      "48it [00:43,  1.11it/s]\n",
      "0it [00:00, ?it/s]"
     ]
    },
    {
     "name": "stdout",
     "output_type": "stream",
     "text": [
      "Num = 240\n",
      "Len = 240\n",
      "Test Set Average Loss 0.001559\n",
      "Train Epoch: 0\tTrain Loss: 0.001946 Test Loss:0.001559\n"
     ]
    },
    {
     "name": "stderr",
     "output_type": "stream",
     "text": [
      "48it [00:43,  1.12it/s]\n",
      "0it [00:00, ?it/s]"
     ]
    },
    {
     "name": "stdout",
     "output_type": "stream",
     "text": [
      "Num = 240\n",
      "Len = 240\n",
      "Test Set Average Loss 0.001304\n",
      "Train Epoch: 1\tTrain Loss: 0.001480 Test Loss:0.001304\n"
     ]
    },
    {
     "name": "stderr",
     "output_type": "stream",
     "text": [
      "48it [00:42,  1.12it/s]\n",
      "0it [00:00, ?it/s]"
     ]
    },
    {
     "name": "stdout",
     "output_type": "stream",
     "text": [
      "Num = 240\n",
      "Len = 240\n",
      "Test Set Average Loss 0.001217\n",
      "Train Epoch: 2\tTrain Loss: 0.001307 Test Loss:0.001217\n"
     ]
    },
    {
     "name": "stderr",
     "output_type": "stream",
     "text": [
      "48it [00:42,  1.12it/s]\n",
      "0it [00:00, ?it/s]"
     ]
    },
    {
     "name": "stdout",
     "output_type": "stream",
     "text": [
      "Num = 240\n",
      "Len = 240\n",
      "Test Set Average Loss 0.001156\n",
      "Train Epoch: 3\tTrain Loss: 0.001207 Test Loss:0.001156\n"
     ]
    },
    {
     "name": "stderr",
     "output_type": "stream",
     "text": [
      "48it [00:42,  1.12it/s]\n"
     ]
    },
    {
     "name": "stdout",
     "output_type": "stream",
     "text": [
      "Num = 240\n",
      "Len = 240\n",
      "Test Set Average Loss 0.001071\n",
      "Train Epoch: 4\tTrain Loss: 0.001126 Test Loss:0.001071\n"
     ]
    }
   ],
   "source": [
    "# Train\n",
    "train = datasets[0]\n",
    "test = datasets[1]\n",
    "print(\"Start Training\")\n",
    "losses = run_training(net,train,test,5,get_device())"
   ]
  },
  {
   "cell_type": "code",
   "execution_count": 9,
   "metadata": {},
   "outputs": [
    {
     "data": {
      "text/plain": [
       "<matplotlib.legend.Legend at 0x7fcd501ccb50>"
      ]
     },
     "execution_count": 9,
     "metadata": {},
     "output_type": "execute_result"
    },
    {
     "data": {
      "image/png": "[encoded data removed]",
      "text/plain": [
       "<Figure size 432x288 with 1 Axes>"
      ]
     },
     "metadata": {
      "needs_background": "light"
     },
     "output_type": "display_data"
    }
   ],
   "source": [
    "import matplotlib.pyplot as plt\n",
    "\n",
    "plt.figure()\n",
    "plt.grid()\n",
    "plt.plot(losses[0],label='train')\n",
    "plt.plot(losses[1],label='test')\n",
    "plt.legend()"
   ]
  },
  {
   "cell_type": "code",
   "execution_count": null,
   "metadata": {},
   "outputs": [],
   "source": []
  }
 ],
 "metadata": {
  "kernelspec": {
   "display_name": "Python 3",
   "language": "python",
   "name": "python3"
  },
  "language_info": {
   "codemirror_mode": {
    "name": "ipython",
    "version": 3
   },
   "file_extension": ".py",
   "mimetype": "text/x-python",
   "name": "python",
   "nbconvert_exporter": "python",
   "pygments_lexer": "ipython3",
   "version": "3.8.5"
  }
 },
 "nbformat": 4,
 "nbformat_minor": 4
}
