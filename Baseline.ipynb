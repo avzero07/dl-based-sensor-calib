{
 "cells": [
  {
   "cell_type": "code",
   "execution_count": 1,
   "metadata": {},
   "outputs": [],
   "source": [
    "# Imports\n",
    "import random\n",
    "import string\n",
    "import tempfile\n",
    "import shutil\n",
    "import subprocess as sp\n",
    "import os\n",
    "\n",
    "from PIL import Image\n",
    "from torch import nn as nn\n",
    "from torch import Generator\n",
    "from torch.utils.data import random_split,DataLoader\n",
    "# TODO: Currently assumes that pytest runs from project root\n",
    "from util.car_dataset import check_dir, check_file, CarDataset, DatasetError\n",
    "from networks.common import *\n",
    "from networks.CNNbase import CNNBasic"
   ]
  },
  {
   "cell_type": "code",
   "execution_count": 2,
   "metadata": {},
   "outputs": [],
   "source": [
    "# Helper Functions\n",
    "def rand_string(length=5):\n",
    "    return ''.join(random.choices(string.ascii_letters +\n",
    "        string.digits, k=length))\n",
    "\n",
    "def loaded_dataset(temp_dir):\n",
    "    '''\n",
    "    Loads the car_dataset and returns the CarDataset object.\n",
    "    '''\n",
    "    image_folder_list = ['0_Frames','1_Frames','2_Frames','3_Frames']\n",
    "    label_file_list = ['0.txt','1.txt','2.txt','3.txt']\n",
    "    #image_folder_list = ['0_Frames']\n",
    "    #label_file_list = ['0.txt']\n",
    "    car_data = CarDataset(temp_dir,image_folder_list,label_file_list)\n",
    "    car_data.drop_nan()\n",
    "\n",
    "    return car_data\n",
    "\n",
    "def dataset_loader(loaded_dataset):\n",
    "    length = len(loaded_dataset)\n",
    "    split_set = random_split(loaded_dataset,[round(0.80*length)\n",
    "                ,round(0.20*length)],generator=Generator().manual_seed(42))\n",
    "    train_loader = DataLoader(split_set[0],batch_size=20)\n",
    "    test_loader = DataLoader(split_set[1],batch_size=20)\n",
    "    '''\n",
    "    Lowering values to sane levels to help run tests on github\n",
    "    runners. Ideally on local GPU (4GB) 80/20 split with batch size of\n",
    "    30 works well.\n",
    "    '''\n",
    "    return (train_loader,test_loader)\n",
    "\n",
    "def network(alpha=0):\n",
    "    network = CNNBasic(alpha)\n",
    "    network = network.to(get_device())\n",
    "    network.double()\n",
    "    return network"
   ]
  },
  {
   "cell_type": "code",
   "execution_count": 3,
   "metadata": {},
   "outputs": [
    {
     "name": "stdout",
     "output_type": "stream",
     "text": [
      "/home/akshay.viswakumar/dl-based-sensor-calib\n"
     ]
    }
   ],
   "source": [
    "root = os.getcwd()\n",
    "print(os.getcwd())"
   ]
  },
  {
   "cell_type": "code",
   "execution_count": 4,
   "metadata": {},
   "outputs": [],
   "source": [
    "# Load Data\n",
    "data = loaded_dataset(os.path.join(root,\"dummy\"))"
   ]
  },
  {
   "cell_type": "code",
   "execution_count": 5,
   "metadata": {},
   "outputs": [],
   "source": [
    "# Split Dataset\n",
    "datasets = dataset_loader(data)"
   ]
  },
  {
   "cell_type": "code",
   "execution_count": 6,
   "metadata": {},
   "outputs": [],
   "source": [
    "# Initialize Network\n",
    "net = network(alpha=0)"
   ]
  },
  {
   "cell_type": "code",
   "execution_count": 7,
   "metadata": {},
   "outputs": [],
   "source": [
    "# Set Up Paths and Metadata for Storing Values\n",
    "test_name = \"Baseline\"\n",
    "checkpoint_path = os.path.join(root,\"Test-Results\",test_name)"
   ]
  },
  {
   "cell_type": "code",
   "execution_count": 8,
   "metadata": {},
   "outputs": [
    {
     "name": "stderr",
     "output_type": "stream",
     "text": [
      "\r",
      "0it [00:00, ?it/s]"
     ]
    },
    {
     "name": "stdout",
     "output_type": "stream",
     "text": [
      "Start Training\n"
     ]
    },
    {
     "name": "stderr",
     "output_type": "stream",
     "text": [
      "149it [04:56,  1.99s/it]\n",
      "0it [00:00, ?it/s]"
     ]
    },
    {
     "name": "stdout",
     "output_type": "stream",
     "text": [
      "Num = 38\n",
      "Len = 742\n",
      "Test Set Average Loss 0.000088\n",
      "Train Epoch: 0\tTrain Loss: 0.000457 Test Loss:0.000088\n"
     ]
    },
    {
     "name": "stderr",
     "output_type": "stream",
     "text": [
      "149it [05:06,  2.06s/it]\n",
      "0it [00:00, ?it/s]"
     ]
    },
    {
     "name": "stdout",
     "output_type": "stream",
     "text": [
      "Num = 38\n",
      "Len = 742\n",
      "Test Set Average Loss 0.000075\n",
      "Train Epoch: 1\tTrain Loss: 0.000242 Test Loss:0.000075\n"
     ]
    },
    {
     "name": "stderr",
     "output_type": "stream",
     "text": [
      "149it [05:03,  2.04s/it]\n",
      "0it [00:00, ?it/s]"
     ]
    },
    {
     "name": "stdout",
     "output_type": "stream",
     "text": [
      "Num = 38\n",
      "Len = 742\n",
      "Test Set Average Loss 0.000074\n",
      "Train Epoch: 2\tTrain Loss: 0.000199 Test Loss:0.000074\n"
     ]
    },
    {
     "name": "stderr",
     "output_type": "stream",
     "text": [
      "149it [05:00,  2.02s/it]\n",
      "0it [00:00, ?it/s]"
     ]
    },
    {
     "name": "stdout",
     "output_type": "stream",
     "text": [
      "Num = 38\n",
      "Len = 742\n",
      "Test Set Average Loss 0.000073\n",
      "Train Epoch: 3\tTrain Loss: 0.000173 Test Loss:0.000073\n"
     ]
    },
    {
     "name": "stderr",
     "output_type": "stream",
     "text": [
      "149it [05:04,  2.04s/it]\n",
      "0it [00:00, ?it/s]"
     ]
    },
    {
     "name": "stdout",
     "output_type": "stream",
     "text": [
      "Num = 38\n",
      "Len = 742\n",
      "Test Set Average Loss 0.000068\n",
      "Train Epoch: 4\tTrain Loss: 0.000162 Test Loss:0.000068\n"
     ]
    },
    {
     "name": "stderr",
     "output_type": "stream",
     "text": [
      "149it [05:01,  2.03s/it]\n",
      "0it [00:00, ?it/s]"
     ]
    },
    {
     "name": "stdout",
     "output_type": "stream",
     "text": [
      "Num = 38\n",
      "Len = 742\n",
      "Test Set Average Loss 0.000062\n",
      "Train Epoch: 5\tTrain Loss: 0.000153 Test Loss:0.000062\n"
     ]
    },
    {
     "name": "stderr",
     "output_type": "stream",
     "text": [
      "149it [04:58,  2.00s/it]\n",
      "0it [00:00, ?it/s]"
     ]
    },
    {
     "name": "stdout",
     "output_type": "stream",
     "text": [
      "Num = 38\n",
      "Len = 742\n",
      "Test Set Average Loss 0.000058\n",
      "Train Epoch: 6\tTrain Loss: 0.000141 Test Loss:0.000058\n"
     ]
    },
    {
     "name": "stderr",
     "output_type": "stream",
     "text": [
      "149it [05:05,  2.05s/it]\n",
      "0it [00:00, ?it/s]"
     ]
    },
    {
     "name": "stdout",
     "output_type": "stream",
     "text": [
      "Num = 38\n",
      "Len = 742\n",
      "Test Set Average Loss 0.000055\n",
      "Train Epoch: 7\tTrain Loss: 0.000132 Test Loss:0.000055\n"
     ]
    },
    {
     "name": "stderr",
     "output_type": "stream",
     "text": [
      "149it [05:04,  2.04s/it]\n",
      "0it [00:00, ?it/s]"
     ]
    },
    {
     "name": "stdout",
     "output_type": "stream",
     "text": [
      "Num = 38\n",
      "Len = 742\n",
      "Test Set Average Loss 0.000054\n",
      "Train Epoch: 8\tTrain Loss: 0.000128 Test Loss:0.000054\n"
     ]
    },
    {
     "name": "stderr",
     "output_type": "stream",
     "text": [
      "149it [03:43,  1.50s/it]\n",
      "0it [00:00, ?it/s]"
     ]
    },
    {
     "name": "stdout",
     "output_type": "stream",
     "text": [
      "Num = 38\n",
      "Len = 742\n",
      "Test Set Average Loss 0.000056\n",
      "Train Epoch: 9\tTrain Loss: 0.000122 Test Loss:0.000056\n"
     ]
    },
    {
     "name": "stderr",
     "output_type": "stream",
     "text": [
      "149it [03:20,  1.35s/it]\n",
      "0it [00:00, ?it/s]"
     ]
    },
    {
     "name": "stdout",
     "output_type": "stream",
     "text": [
      "Num = 38\n",
      "Len = 742\n",
      "Test Set Average Loss 0.000049\n",
      "Train Epoch: 10\tTrain Loss: 0.000115 Test Loss:0.000049\n"
     ]
    },
    {
     "name": "stderr",
     "output_type": "stream",
     "text": [
      "149it [03:40,  1.48s/it]\n",
      "0it [00:00, ?it/s]"
     ]
    },
    {
     "name": "stdout",
     "output_type": "stream",
     "text": [
      "Num = 38\n",
      "Len = 742\n",
      "Test Set Average Loss 0.000050\n",
      "Train Epoch: 11\tTrain Loss: 0.000113 Test Loss:0.000050\n"
     ]
    },
    {
     "name": "stderr",
     "output_type": "stream",
     "text": [
      "149it [03:37,  1.46s/it]\n",
      "0it [00:00, ?it/s]"
     ]
    },
    {
     "name": "stdout",
     "output_type": "stream",
     "text": [
      "Num = 38\n",
      "Len = 742\n",
      "Test Set Average Loss 0.000049\n",
      "Train Epoch: 12\tTrain Loss: 0.000109 Test Loss:0.000049\n"
     ]
    },
    {
     "name": "stderr",
     "output_type": "stream",
     "text": [
      "149it [03:19,  1.34s/it]\n",
      "0it [00:00, ?it/s]"
     ]
    },
    {
     "name": "stdout",
     "output_type": "stream",
     "text": [
      "Num = 38\n",
      "Len = 742\n",
      "Test Set Average Loss 0.000045\n",
      "Train Epoch: 13\tTrain Loss: 0.000100 Test Loss:0.000045\n"
     ]
    },
    {
     "name": "stderr",
     "output_type": "stream",
     "text": [
      "149it [03:14,  1.30s/it]\n",
      "0it [00:00, ?it/s]"
     ]
    },
    {
     "name": "stdout",
     "output_type": "stream",
     "text": [
      "Num = 38\n",
      "Len = 742\n",
      "Test Set Average Loss 0.000043\n",
      "Train Epoch: 14\tTrain Loss: 0.000100 Test Loss:0.000043\n"
     ]
    },
    {
     "name": "stderr",
     "output_type": "stream",
     "text": [
      "149it [03:14,  1.31s/it]\n",
      "0it [00:00, ?it/s]"
     ]
    },
    {
     "name": "stdout",
     "output_type": "stream",
     "text": [
      "Num = 38\n",
      "Len = 742\n",
      "Test Set Average Loss 0.000042\n",
      "Train Epoch: 15\tTrain Loss: 0.000093 Test Loss:0.000042\n"
     ]
    },
    {
     "name": "stderr",
     "output_type": "stream",
     "text": [
      "149it [03:15,  1.31s/it]\n",
      "0it [00:00, ?it/s]"
     ]
    },
    {
     "name": "stdout",
     "output_type": "stream",
     "text": [
      "Num = 38\n",
      "Len = 742\n",
      "Test Set Average Loss 0.000042\n",
      "Train Epoch: 16\tTrain Loss: 0.000096 Test Loss:0.000042\n"
     ]
    },
    {
     "name": "stderr",
     "output_type": "stream",
     "text": [
      "149it [03:16,  1.32s/it]\n",
      "0it [00:00, ?it/s]"
     ]
    },
    {
     "name": "stdout",
     "output_type": "stream",
     "text": [
      "Num = 38\n",
      "Len = 742\n",
      "Test Set Average Loss 0.000040\n",
      "Train Epoch: 17\tTrain Loss: 0.000096 Test Loss:0.000040\n"
     ]
    },
    {
     "name": "stderr",
     "output_type": "stream",
     "text": [
      "149it [03:41,  1.48s/it]\n",
      "0it [00:00, ?it/s]"
     ]
    },
    {
     "name": "stdout",
     "output_type": "stream",
     "text": [
      "Num = 38\n",
      "Len = 742\n",
      "Test Set Average Loss 0.000039\n",
      "Train Epoch: 18\tTrain Loss: 0.000092 Test Loss:0.000039\n"
     ]
    },
    {
     "name": "stderr",
     "output_type": "stream",
     "text": [
      "149it [03:41,  1.49s/it]\n",
      "0it [00:00, ?it/s]"
     ]
    },
    {
     "name": "stdout",
     "output_type": "stream",
     "text": [
      "Num = 38\n",
      "Len = 742\n",
      "Test Set Average Loss 0.000037\n",
      "Train Epoch: 19\tTrain Loss: 0.000088 Test Loss:0.000037\n"
     ]
    },
    {
     "name": "stderr",
     "output_type": "stream",
     "text": [
      "149it [03:19,  1.34s/it]\n"
     ]
    },
    {
     "name": "stdout",
     "output_type": "stream",
     "text": [
      "Num = 38\n",
      "Len = 742\n",
      "Test Set Average Loss 0.000038\n",
      "Train Epoch: 20\tTrain Loss: 0.000090 Test Loss:0.000038\n"
     ]
    }
   ],
   "source": [
    "# Train\n",
    "train = datasets[0]\n",
    "test = datasets[1]\n",
    "print(\"Start Training\")\n",
    "losses = run_training(net,train,test,21,get_device(),checkpoint_path,test_name,checkpoint_freq=5)"
   ]
  },
  {
   "cell_type": "code",
   "execution_count": 9,
   "metadata": {},
   "outputs": [],
   "source": [
    "# Save Loss Files\n",
    "save_stats(losses[0],os.path.join(checkpoint_path,'train_loss.pkl')) # Train loss\n",
    "save_stats(losses[1],os.path.join(checkpoint_path,'test_loss.pkl')) # Test Loss"
   ]
  },
  {
   "cell_type": "code",
   "execution_count": 10,
   "metadata": {},
   "outputs": [],
   "source": [
    "import matplotlib.pyplot as plt\n",
    "\n",
    "def plot_losses(test,train):\n",
    "    plt.figure()\n",
    "    plt.grid()\n",
    "    plt.plot(train,label='train')\n",
    "    plt.plot(test,label='test')\n",
    "    plt.legend()"
   ]
  },
  {
   "cell_type": "code",
   "execution_count": 11,
   "metadata": {},
   "outputs": [
    {
     "data": {
      "image/png": "[encoded data removed]",
      "text/plain": [
       "<Figure size 432x288 with 1 Axes>"
      ]
     },
     "metadata": {
      "needs_background": "light"
     },
     "output_type": "display_data"
    }
   ],
   "source": [
    "plot_losses(losses[0],losses[1])"
   ]
  },
  {
   "cell_type": "code",
   "execution_count": 12,
   "metadata": {},
   "outputs": [
    {
     "data": {
      "image/png": "[encoded data removed]",
      "text/plain": [
       "<Figure size 432x288 with 1 Axes>"
      ]
     },
     "metadata": {
      "needs_background": "light"
     },
     "output_type": "display_data"
    }
   ],
   "source": [
    "# Just a Backup Test\n",
    "plot_losses(load_stats(os.path.join(checkpoint_path,'train_loss.pkl')),load_stats(os.path.join(checkpoint_path,'test_loss.pkl')))"
   ]
  },
  {
   "cell_type": "code",
   "execution_count": null,
   "metadata": {},
   "outputs": [],
   "source": []
  }
 ],
 "metadata": {
  "kernelspec": {
   "display_name": "Python 3",
   "language": "python",
   "name": "python3"
  },
  "language_info": {
   "codemirror_mode": {
    "name": "ipython",
    "version": 3
   },
   "file_extension": ".py",
   "mimetype": "text/x-python",
   "name": "python",
   "nbconvert_exporter": "python",
   "pygments_lexer": "ipython3",
   "version": "3.8.5"
  }
 },
 "nbformat": 4,
 "nbformat_minor": 4
}
